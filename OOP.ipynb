{
  "nbformat": 4,
  "nbformat_minor": 0,
  "metadata": {
    "colab": {
      "provenance": [],
      "authorship_tag": "ABX9TyP09T2c721U54ChwCrXyFsu",
      "include_colab_link": true
    },
    "kernelspec": {
      "name": "python3",
      "display_name": "Python 3"
    },
    "language_info": {
      "name": "python"
    }
  },
  "cells": [
    {
      "cell_type": "markdown",
      "metadata": {
        "id": "view-in-github",
        "colab_type": "text"
      },
      "source": [
        "<a href=\"https://colab.research.google.com/github/Code-with-AADevs/Code-with-AADevs/blob/main/OOP.ipynb\" target=\"_parent\"><img src=\"https://colab.research.google.com/assets/colab-badge.svg\" alt=\"Open In Colab\"/></a>"
      ]
    },
    {
      "cell_type": "code",
      "execution_count": 1,
      "metadata": {
        "colab": {
          "base_uri": "https://localhost:8080/"
        },
        "id": "silwa92nolBW",
        "outputId": "c13737e8-b7e2-4d41-ddec-a5bd59d335c3"
      },
      "outputs": [
        {
          "output_type": "stream",
          "name": "stdout",
          "text": [
            "Lets make a call\n",
            "Lets play a game\n"
          ]
        }
      ],
      "source": [
        "class Phone:\n",
        "  def make_call(self):\n",
        "    print('Lets make a call')\n",
        "\n",
        "  def   play_game(self):\n",
        "    print('Lets play a game')\n",
        "\n",
        "p1 = Phone()\n",
        "p1.make_call()\n",
        "p1.play_game()"
      ]
    },
    {
      "cell_type": "code",
      "source": [
        "class Calculator:\n",
        "\n",
        "  def add(self,a,b):\n",
        "    return a+b\n",
        "\n",
        "  def subtract(self,a,b):\n",
        "    return a-b"
      ],
      "metadata": {
        "id": "nUWWDCKdpSak"
      },
      "execution_count": 3,
      "outputs": []
    },
    {
      "cell_type": "code",
      "source": [
        "class Phone:\n",
        "\n",
        "  def set_color(self,color):\n",
        "    self.color = color\n",
        "\n",
        "  def set_cost(self,cost):\n",
        "    self.cost = cost\n",
        "\n",
        "  def show_color(self):\n",
        "    return self.color\n",
        "\n",
        "  def show_cost(self):\n",
        "    return self.cost\n",
        "\n",
        "  def make_call(self):\n",
        "    print('Lets make a call')\n",
        "\n",
        "  def play_game(self):\n",
        "    print('Lets play a game')"
      ],
      "metadata": {
        "id": "JxaZc34xtOEh"
      },
      "execution_count": 5,
      "outputs": []
    },
    {
      "cell_type": "code",
      "source": [
        "p2=Phone()"
      ],
      "metadata": {
        "id": "11j53o4Ltahk"
      },
      "execution_count": 6,
      "outputs": []
    },
    {
      "cell_type": "code",
      "source": [
        "p2.set_color('Blue')"
      ],
      "metadata": {
        "id": "oPDorHCbvqAB"
      },
      "execution_count": 11,
      "outputs": []
    },
    {
      "cell_type": "code",
      "source": [
        "p2.show_color()"
      ],
      "metadata": {
        "colab": {
          "base_uri": "https://localhost:8080/",
          "height": 35
        },
        "id": "cJBnyG5vwCll",
        "outputId": "48ae6b4a-b841-4a6f-a3a5-cddb244ea061"
      },
      "execution_count": 12,
      "outputs": [
        {
          "output_type": "execute_result",
          "data": {
            "text/plain": [
              "'Blue'"
            ],
            "application/vnd.google.colaboratory.intrinsic+json": {
              "type": "string"
            }
          },
          "metadata": {},
          "execution_count": 12
        }
      ]
    },
    {
      "cell_type": "code",
      "source": [
        "p2.set_cost(5000)"
      ],
      "metadata": {
        "id": "wwOoPacAwIaj"
      },
      "execution_count": 13,
      "outputs": []
    },
    {
      "cell_type": "code",
      "source": [
        "p2.show_cost()"
      ],
      "metadata": {
        "colab": {
          "base_uri": "https://localhost:8080/"
        },
        "id": "ZPqi2nVowaPy",
        "outputId": "f48cdc5f-dd03-4201-edcb-53f9b24231b9"
      },
      "execution_count": 14,
      "outputs": [
        {
          "output_type": "execute_result",
          "data": {
            "text/plain": [
              "5000"
            ]
          },
          "metadata": {},
          "execution_count": 14
        }
      ]
    },
    {
      "cell_type": "code",
      "source": [
        "p2.play_game()"
      ],
      "metadata": {
        "colab": {
          "base_uri": "https://localhost:8080/"
        },
        "id": "sjRpDwFaweAD",
        "outputId": "f05c1104-09d3-408b-c64b-737ecb52ac49"
      },
      "execution_count": 15,
      "outputs": [
        {
          "output_type": "stream",
          "name": "stdout",
          "text": [
            "Lets play a game\n"
          ]
        }
      ]
    },
    {
      "cell_type": "code",
      "source": [
        "p2.make_call()"
      ],
      "metadata": {
        "colab": {
          "base_uri": "https://localhost:8080/"
        },
        "id": "-QVtAidzwmMy",
        "outputId": "f8661069-ea29-436f-8d05-33274e758a29"
      },
      "execution_count": 16,
      "outputs": [
        {
          "output_type": "stream",
          "name": "stdout",
          "text": [
            "Lets make a call\n"
          ]
        }
      ]
    },
    {
      "cell_type": "code",
      "source": [
        "class Calculator:\n",
        "\n",
        "  def add(self,a,b):\n",
        "    return a+b\n",
        "\n",
        "  def subtract(self,a,b):\n",
        "    return a-b"
      ],
      "metadata": {
        "id": "5USc4_H4wpH1"
      },
      "execution_count": 17,
      "outputs": []
    },
    {
      "cell_type": "code",
      "source": [
        "c1=Calculator()\n",
        "print(c1.add(10,30))\n",
        "print(c1.subtract(10,30))"
      ],
      "metadata": {
        "colab": {
          "base_uri": "https://localhost:8080/"
        },
        "id": "Lo70IFxew-VB",
        "outputId": "4a84d961-06fb-4428-8509-46ae9fa1db07"
      },
      "execution_count": 19,
      "outputs": [
        {
          "output_type": "stream",
          "name": "stdout",
          "text": [
            "40\n",
            "-20\n"
          ]
        }
      ]
    },
    {
      "cell_type": "code",
      "source": [
        "class Employees:\n",
        "\n",
        "  def __init__(self,name,age,salary,gender):\n",
        "    self.name=name\n",
        "    self.age=age\n",
        "    self.salary=salary\n",
        "    self.gender=gender\n",
        "\n",
        "\n",
        "  def show_details(self):\n",
        "    print('Name of the employee is',self.name)\n",
        "    print('Age of the employee is',self.age)\n",
        "    print('Salary of the employee is',self.salary)\n",
        "    print('Gender of the employee is',self.gender)"
      ],
      "metadata": {
        "id": "PzZagwaJxbHq"
      },
      "execution_count": 49,
      "outputs": []
    },
    {
      "cell_type": "code",
      "source": [
        "e1=Employees('AADIV',25,25000,'Male')\n",
        "e1.show_details()"
      ],
      "metadata": {
        "colab": {
          "base_uri": "https://localhost:8080/"
        },
        "id": "E-XYpQRK1j71",
        "outputId": "ab827112-5fea-45ee-b989-3dc5878b4235"
      },
      "execution_count": 50,
      "outputs": [
        {
          "output_type": "stream",
          "name": "stdout",
          "text": [
            "Name of the employee is AADIV\n",
            "Age of the employee is 25\n",
            "Salary of the employee is 25000\n",
            "Gender of the employee is Male\n"
          ]
        }
      ]
    },
    {
      "cell_type": "code",
      "source": [
        "class ShoppingCart:\n",
        "\n",
        "  def __init__(self):\n",
        "    self.items = []\n",
        "\n",
        "  def add_items(self, item):\n",
        "    self.items.append(item)\n",
        "\n",
        "  def show_items(self):\n",
        "    print('Cart Items is: ', self.items)"
      ],
      "metadata": {
        "id": "FsiqOHgn38-Q"
      },
      "execution_count": 55,
      "outputs": []
    },
    {
      "cell_type": "code",
      "source": [
        "cart = ShoppingCart()\n",
        "cart.add_items('Mobile')\n",
        "cart.add_items('Laptop')\n",
        "cart.add_items('Tablet')\n",
        "cart.add_items('TV')\n",
        "cart.add_items('Fridge')\n",
        "cart.show_items()"
      ],
      "metadata": {
        "colab": {
          "base_uri": "https://localhost:8080/"
        },
        "id": "KQMqzJnh386y",
        "outputId": "db8ddf96-54c7-4264-8dde-e5a339e10c66"
      },
      "execution_count": 57,
      "outputs": [
        {
          "output_type": "stream",
          "name": "stdout",
          "text": [
            "Cart Items is:  ['Mobile', 'Laptop', 'Tablet', 'TV', 'Fridge']\n"
          ]
        }
      ]
    },
    {
      "cell_type": "code",
      "source": [
        "class Student:\n",
        "\n",
        "  def __init__(self,name,marks,age):\n",
        "    self.name=name\n",
        "    self.marks=marks\n",
        "    self.age=age\n",
        "\n",
        "  def show_details(self):\n",
        "    print('The student name is:',self.name)\n",
        "    print('The student marks is:',self.marks)\n",
        "    print('The student age is:',self.age)"
      ],
      "metadata": {
        "id": "ZkiEMMU8384A"
      },
      "execution_count": 62,
      "outputs": []
    },
    {
      "cell_type": "code",
      "source": [
        "s=Student('AADIV',90,25)\n",
        "s.show_details()"
      ],
      "metadata": {
        "colab": {
          "base_uri": "https://localhost:8080/"
        },
        "id": "4dkZGIzj1tCy",
        "outputId": "3aacadb8-fd27-4533-e0a7-422bb95f7f32"
      },
      "execution_count": 63,
      "outputs": [
        {
          "output_type": "stream",
          "name": "stdout",
          "text": [
            "The student name is: AADIV\n",
            "The student marks is: 90\n",
            "The student age is: 25\n"
          ]
        }
      ]
    },
    {
      "cell_type": "code",
      "source": [
        "class Vehicle:\n",
        "\n",
        "  def __init__(self,model,color,price):\n",
        "    self.model=model\n",
        "    self.color=color\n",
        "    self.price=price\n",
        "\n",
        "  def show_details(self):\n",
        "    print('The model name is:',self.model)\n",
        "    print('The color is:',self.color)\n",
        "    print('The Vehicle price is:',self.price)"
      ],
      "metadata": {
        "id": "yDwDaFPJ_Ic7"
      },
      "execution_count": 76,
      "outputs": []
    },
    {
      "cell_type": "code",
      "source": [
        "V=Vehicle('BMW','Black',2500000)\n",
        "V.show_details()"
      ],
      "metadata": {
        "colab": {
          "base_uri": "https://localhost:8080/"
        },
        "id": "pddnWRPRBnYD",
        "outputId": "ed33b894-6be3-4de4-d664-b1ed3d0cc1b7"
      },
      "execution_count": 77,
      "outputs": [
        {
          "output_type": "stream",
          "name": "stdout",
          "text": [
            "The model name is: BMW\n",
            "The color is: Black\n",
            "The Vehicle price is: 2500000\n"
          ]
        }
      ]
    },
    {
      "cell_type": "code",
      "source": [
        "class Employees:\n",
        "\n",
        "  def __init__(self,name,age,salary):\n",
        "    self.name=name\n",
        "    self.age=age\n",
        "    self.salary=salary\n",
        "\n",
        "  def show_details(self):\n",
        "    print(f\"Employee name is {self.name}  Employee age is {self.age} Employee salary is {self.salary}\")"
      ],
      "metadata": {
        "id": "nJdaC7eUB4hr"
      },
      "execution_count": 80,
      "outputs": []
    },
    {
      "cell_type": "code",
      "source": [
        "e1=Employees('AADIV',25,25000)\n",
        "e1.show_details()"
      ],
      "metadata": {
        "colab": {
          "base_uri": "https://localhost:8080/"
        },
        "id": "AZuv0E08DHYw",
        "outputId": "2686d46f-bb95-4f8a-aa74-f900a7e1c7b1"
      },
      "execution_count": 81,
      "outputs": [
        {
          "output_type": "stream",
          "name": "stdout",
          "text": [
            "Employee name is AADIV  Employee age is 25 Employee salary is 25000\n"
          ]
        }
      ]
    },
    {
      "cell_type": "code",
      "source": [
        "class Vegetables:\n",
        "\n",
        "  def __init__(self,name,price):\n",
        "    self.name=name\n",
        "    self.price=price\n",
        "\n",
        "  def show_details(self):\n",
        "    print(f\"The name of the vegetable is {self.name} and the price is {self.price} Rupees per Kg.\")\n",
        "\n",
        "V=Vegetables('Methi',30)\n",
        "V.show_details()"
      ],
      "metadata": {
        "colab": {
          "base_uri": "https://localhost:8080/"
        },
        "id": "6Rt0XTqdDmXm",
        "outputId": "ba108e8c-6f23-4d2e-f5d3-7e3e8baabfa8"
      },
      "execution_count": 93,
      "outputs": [
        {
          "output_type": "stream",
          "name": "stdout",
          "text": [
            "The name of the vegetable is Methi and the price is 30 Rupees per Kg.\n"
          ]
        }
      ]
    },
    {
      "cell_type": "code",
      "source": [
        "class"
      ],
      "metadata": {
        "id": "Cyn7mxRPDmUY"
      },
      "execution_count": null,
      "outputs": []
    },
    {
      "cell_type": "code",
      "source": [],
      "metadata": {
        "id": "yD7kqFZjDMfa"
      },
      "execution_count": null,
      "outputs": []
    }
  ]
}